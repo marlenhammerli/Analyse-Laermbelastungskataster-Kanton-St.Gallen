{
 "cells": [
  {
   "cell_type": "code",
   "execution_count": null,
   "id": "2b3473c5",
   "metadata": {},
   "outputs": [],
   "source": [
    "import pandas as pd\n",
    "import regex as re"
   ]
  },
  {
   "cell_type": "code",
   "execution_count": null,
   "id": "3843b711",
   "metadata": {},
   "outputs": [],
   "source": [
    "df = pd.read_excel('daten/df_sg_bearbeitet.xlsx')"
   ]
  },
  {
   "cell_type": "code",
   "execution_count": null,
   "id": "760a62d0",
   "metadata": {},
   "outputs": [],
   "source": [
    "df = df.drop(['longitude', 'latitude', 'Verkehrserhebung'], axis = 1).copy()"
   ]
  },
  {
   "cell_type": "code",
   "execution_count": null,
   "id": "0f2f815c",
   "metadata": {},
   "outputs": [],
   "source": [
    "df = df.rename(columns={\"gemeinde\":\"dorf\"}).copy()"
   ]
  },
  {
   "cell_type": "code",
   "execution_count": null,
   "id": "b3c0b0a9",
   "metadata": {},
   "outputs": [],
   "source": [
    "df[\"dorf\"]"
   ]
  },
  {
   "cell_type": "code",
   "execution_count": null,
   "id": "45884c88",
   "metadata": {},
   "outputs": [],
   "source": [
    "df.head(3)"
   ]
  },
  {
   "cell_type": "code",
   "execution_count": null,
   "id": "e9e18e1d",
   "metadata": {},
   "outputs": [],
   "source": [
    "df['dorf'].iloc[5000]"
   ]
  },
  {
   "cell_type": "code",
   "execution_count": null,
   "id": "72852a1d",
   "metadata": {},
   "outputs": [],
   "source": [
    "#mit for-loop PLZ und Gemeinden auslesen und splitten\n",
    "addressliste = []\n",
    "\n",
    "for i in range(len(df)):\n",
    "    \n",
    "    elem = df['dorf'].iloc[i].split(' ')\n",
    "    \n",
    "    addressliste.append(elem)"
   ]
  },
  {
   "cell_type": "code",
   "execution_count": null,
   "id": "4880ba01",
   "metadata": {},
   "outputs": [],
   "source": [
    "addressliste[235]"
   ]
  },
  {
   "cell_type": "code",
   "execution_count": null,
   "id": "790b8daf",
   "metadata": {},
   "outputs": [],
   "source": [
    "#mit for-loop plz und Gemeinden aus der Liste auslesen und in seperate Listen packen\n",
    "gemeinde = []\n",
    "plz = []\n",
    "\n",
    "for i in range(len(addressliste)):\n",
    "    try:\n",
    "        elem_gem = addressliste[i][1]\n",
    "        gemeinde.append(elem_gem)\n",
    "    except IndexError:\n",
    "        print('Fehler an der Stelle: ' + str(i))\n",
    "    \n",
    "    elem_plz = addressliste[i][0]\n",
    "    plz.append(elem_plz)"
   ]
  },
  {
   "cell_type": "code",
   "execution_count": null,
   "id": "10979c6f",
   "metadata": {},
   "outputs": [],
   "source": [
    "df['plz'] = plz\n",
    "df['dorf2'] = gemeinde"
   ]
  },
  {
   "cell_type": "code",
   "execution_count": null,
   "id": "0c5f203d",
   "metadata": {},
   "outputs": [],
   "source": [
    "df['plz'] = df['plz'].astype(int)"
   ]
  },
  {
   "cell_type": "code",
   "execution_count": null,
   "id": "f340e55c",
   "metadata": {},
   "outputs": [],
   "source": [
    "df.dtypes"
   ]
  },
  {
   "cell_type": "code",
   "execution_count": null,
   "id": "9d348651",
   "metadata": {},
   "outputs": [],
   "source": [
    "#PLZ-Verzeichnis laden\n",
    "df_plz = pd.read_csv('daten/plz.csv')"
   ]
  },
  {
   "cell_type": "code",
   "execution_count": null,
   "id": "2fa8bffe",
   "metadata": {},
   "outputs": [],
   "source": [
    "df_plz[df_plz['ORTBEZ18'] == 'Rorschach']"
   ]
  },
  {
   "cell_type": "code",
   "execution_count": null,
   "id": "fd370b5c",
   "metadata": {},
   "outputs": [],
   "source": [
    "#mit Regex den Leerschlag zwischen St. und Strassennamen oder Gemeindenamen entfernen\n",
    "df_plz['ORTBEZ18'] = df_plz['ORTBEZ18'].apply(lambda x: re.sub(r'St. ', 'St.', str(x)))"
   ]
  },
  {
   "cell_type": "code",
   "execution_count": null,
   "id": "c40c655e",
   "metadata": {},
   "outputs": [],
   "source": [
    "df_plz['ORTBEZ18'] = df_plz['ORTBEZ18'].apply(lambda x: re.sub(r'St.Gallen Dist Ba', 'St.Gallen', str(x)))"
   ]
  },
  {
   "cell_type": "code",
   "execution_count": null,
   "id": "e4375402",
   "metadata": {},
   "outputs": [],
   "source": [
    "df_plz['ORTBEZ18'] = df_plz['ORTBEZ18'].apply(lambda x: re.sub(r'Abtwil SG', 'Abtwil', str(x)))"
   ]
  },
  {
   "cell_type": "code",
   "execution_count": null,
   "id": "44a31641",
   "metadata": {},
   "outputs": [],
   "source": [
    "df_plz['ORTBEZ18'] = df_plz['ORTBEZ18'].apply(lambda x: re.sub(r'Gossau SG', 'Gossau', str(x)))"
   ]
  },
  {
   "cell_type": "code",
   "execution_count": null,
   "id": "707f5fc7",
   "metadata": {},
   "outputs": [],
   "source": [
    "df_plz.dtypes"
   ]
  },
  {
   "cell_type": "code",
   "execution_count": null,
   "id": "3229a06a",
   "metadata": {},
   "outputs": [],
   "source": [
    "#Hinzufügen, damit sicher überall die richtigen Gemeindenamen hinterlegt\n",
    "df_new = df_plz.merge(df, how = 'inner', left_on = 'POSTLEITZAHL', right_on = 'plz')"
   ]
  },
  {
   "cell_type": "code",
   "execution_count": null,
   "id": "8bd3c57b",
   "metadata": {},
   "outputs": [],
   "source": [
    "df_new.head(1)"
   ]
  },
  {
   "cell_type": "code",
   "execution_count": null,
   "id": "efff81e8",
   "metadata": {},
   "outputs": [],
   "source": [
    "df_new = df_new.drop(['REC_ART', 'POSTLEITZAHL', 'ORTBEZ27', 'Geokoordinaten'], axis = 1).copy()"
   ]
  },
  {
   "cell_type": "code",
   "execution_count": null,
   "id": "8a69aaab",
   "metadata": {},
   "outputs": [],
   "source": [
    "df_new.head(1)"
   ]
  },
  {
   "cell_type": "code",
   "execution_count": null,
   "id": "d28682a0",
   "metadata": {},
   "outputs": [],
   "source": [
    "df_new = df_new.rename(columns={\"ORTBEZ18\":\"gemeinde\", 'Geo Shape':'Geo Shape PLZ', 'dorf':'addressteil', 'dorf2':'dorfname'}).copy()"
   ]
  },
  {
   "cell_type": "code",
   "execution_count": null,
   "id": "732d0ed2",
   "metadata": {},
   "outputs": [],
   "source": [
    "df_new.dtypes"
   ]
  },
  {
   "cell_type": "code",
   "execution_count": null,
   "id": "787879c9",
   "metadata": {},
   "outputs": [],
   "source": [
    "df_new.to_csv('daten/df_sg_FINAL.csv', index = False)"
   ]
  },
  {
   "cell_type": "code",
   "execution_count": null,
   "id": "f7b07b38",
   "metadata": {},
   "outputs": [],
   "source": []
  }
 ],
 "metadata": {
  "kernelspec": {
   "display_name": "Python 3 (ipykernel)",
   "language": "python",
   "name": "python3"
  },
  "language_info": {
   "codemirror_mode": {
    "name": "ipython",
    "version": 3
   },
   "file_extension": ".py",
   "mimetype": "text/x-python",
   "name": "python",
   "nbconvert_exporter": "python",
   "pygments_lexer": "ipython3",
   "version": "3.9.7"
  }
 },
 "nbformat": 4,
 "nbformat_minor": 5
}
