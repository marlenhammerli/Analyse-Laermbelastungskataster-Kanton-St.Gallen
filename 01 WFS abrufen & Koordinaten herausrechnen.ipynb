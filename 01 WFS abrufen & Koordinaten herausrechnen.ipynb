{
 "cells": [
  {
   "cell_type": "code",
   "execution_count": null,
   "id": "093d3ed3",
   "metadata": {},
   "outputs": [],
   "source": [
    "#Imports Selenium\n",
    "from selenium import webdriver\n",
    "from selenium.webdriver.common.keys import Keys\n",
    "from selenium.webdriver.common.by import By\n",
    "from selenium.webdriver.support.ui import Select"
   ]
  },
  {
   "cell_type": "code",
   "execution_count": null,
   "id": "cb866ed3",
   "metadata": {},
   "outputs": [],
   "source": [
    "import pandas as pd\n",
    "import geopandas as gpd"
   ]
  },
  {
   "cell_type": "code",
   "execution_count": null,
   "id": "ac8497aa",
   "metadata": {},
   "outputs": [],
   "source": [
    "from fiona import BytesCollection "
   ]
  },
  {
   "cell_type": "markdown",
   "id": "4ad0cbf8",
   "metadata": {},
   "source": [
    "## 1. WFS abrufen"
   ]
  },
  {
   "cell_type": "code",
   "execution_count": null,
   "id": "1f967633",
   "metadata": {},
   "outputs": [],
   "source": [
    "url = 'https://services.geo.sg.ch/wss/service/SG00164_WFS/guest?request=DescribeFeatureType&service=WFS&REQUEST=GetFeature&TYPENAME=SG00164:Laermemission'"
   ]
  },
  {
   "cell_type": "raw",
   "id": "2a936281",
   "metadata": {},
   "source": [
    "print(url)"
   ]
  },
  {
   "cell_type": "code",
   "execution_count": null,
   "id": "55ed6577",
   "metadata": {},
   "outputs": [],
   "source": [
    "driver = webdriver.Firefox()"
   ]
  },
  {
   "cell_type": "code",
   "execution_count": null,
   "id": "08da723b",
   "metadata": {},
   "outputs": [],
   "source": [
    "driver.get(url)"
   ]
  },
  {
   "cell_type": "code",
   "execution_count": null,
   "id": "24aad77f",
   "metadata": {},
   "outputs": [],
   "source": [
    "page = driver.page_source.encode('utf-8')"
   ]
  },
  {
   "cell_type": "code",
   "execution_count": null,
   "id": "52f5557a",
   "metadata": {},
   "outputs": [],
   "source": [
    "page"
   ]
  },
  {
   "cell_type": "markdown",
   "id": "c1a34710",
   "metadata": {},
   "source": [
    "## 2. Informationen aus dem Infowust auslesen (BytesCollegtion)"
   ]
  },
  {
   "cell_type": "code",
   "execution_count": null,
   "id": "8d6f138e",
   "metadata": {},
   "outputs": [],
   "source": [
    "with BytesCollection(page) as f:\n",
    "        gdf = gpd.GeoDataFrame.from_features(f)\n",
    "       \n",
    "    "
   ]
  },
  {
   "cell_type": "code",
   "execution_count": null,
   "id": "6c1f586b",
   "metadata": {},
   "outputs": [],
   "source": [
    "gdf"
   ]
  },
  {
   "cell_type": "code",
   "execution_count": null,
   "id": "b8dff194",
   "metadata": {},
   "outputs": [],
   "source": [
    "gdf.plot()"
   ]
  },
  {
   "cell_type": "code",
   "execution_count": null,
   "id": "3b2e6e1e",
   "metadata": {},
   "outputs": [],
   "source": [
    "gdf.shape"
   ]
  },
  {
   "cell_type": "code",
   "execution_count": null,
   "id": "618ed0f4",
   "metadata": {},
   "outputs": [],
   "source": [
    "gdf.dtypes"
   ]
  },
  {
   "cell_type": "code",
   "execution_count": null,
   "id": "ed80023e",
   "metadata": {},
   "outputs": [],
   "source": [
    "gdf.to_csv(r'daten/larmemission-street.csv', index = False)"
   ]
  },
  {
   "cell_type": "code",
   "execution_count": null,
   "id": "d7f80aa5",
   "metadata": {},
   "outputs": [],
   "source": [
    "df = pd.read_csv('daten/larmemission-street.csv')"
   ]
  },
  {
   "cell_type": "code",
   "execution_count": null,
   "id": "1e96f0c2",
   "metadata": {},
   "outputs": [],
   "source": [
    "df[(gdf['Emissionswert__Lre__Tag__dB_A__'] == 75) & (gdf['Emissionswert__Lre__Nacht__dB_A__'] == 63)]"
   ]
  },
  {
   "cell_type": "markdown",
   "id": "f8b1c482",
   "metadata": {},
   "source": [
    "## 3. Einen Geopunkt aus dem Multilinestring herausrechnen\n",
    "Um später auf Grund dessen die Adresse bestimmen zu können"
   ]
  },
  {
   "cell_type": "code",
   "execution_count": null,
   "id": "7ab095f3",
   "metadata": {},
   "outputs": [],
   "source": [
    "df['gml_id'].loc[0]"
   ]
  },
  {
   "cell_type": "code",
   "execution_count": null,
   "id": "f3888a04",
   "metadata": {
    "scrolled": true
   },
   "outputs": [],
   "source": [
    "df['geometry'].iloc[0]"
   ]
  },
  {
   "cell_type": "code",
   "execution_count": null,
   "id": "bbac2d44",
   "metadata": {},
   "outputs": [],
   "source": [
    "# Split Koordinaten in geometry beim Komma und packt das Resultat in eine Liste\n",
    "geopoint = []\n",
    "\n",
    "for i in range(len(df)):\n",
    "    elem = df['geometry'].str.split(\",\")[i]\n",
    "\n",
    "  \n",
    "    geopoint.append(elem)\n",
    "\n",
    "   "
   ]
  },
  {
   "cell_type": "code",
   "execution_count": null,
   "id": "e239a671",
   "metadata": {},
   "outputs": [],
   "source": [
    "#Die Liste in ein df transformieren \n",
    "df_point = pd.DataFrame(geopoint)"
   ]
  },
  {
   "cell_type": "code",
   "execution_count": null,
   "id": "5ca4d14f",
   "metadata": {
    "scrolled": true
   },
   "outputs": [],
   "source": [
    "df_point"
   ]
  },
  {
   "cell_type": "code",
   "execution_count": null,
   "id": "f9f90c60",
   "metadata": {},
   "outputs": [],
   "source": [
    "# Das df mit den Daten und jenes mit den Geopoints (aber nur Spalte 1) auf dem Index mergen\n",
    "df_new = pd.merge(df,df_point[[1]], left_index=True, right_index=True)"
   ]
  },
  {
   "cell_type": "code",
   "execution_count": null,
   "id": "7e3432bf",
   "metadata": {},
   "outputs": [],
   "source": [
    "df_new.tail()"
   ]
  },
  {
   "cell_type": "code",
   "execution_count": null,
   "id": "2f75cfb5",
   "metadata": {},
   "outputs": [],
   "source": [
    "df_new.rename(columns={1: 'Coordinates'}, inplace=True)"
   ]
  },
  {
   "cell_type": "markdown",
   "id": "ff25c26d",
   "metadata": {},
   "source": [
    "## 4. Die beiden Koordinaten aufsplitten und in einzelne Spalten packen\n",
    "(Lat = north, Long = east)"
   ]
  },
  {
   "cell_type": "code",
   "execution_count": null,
   "id": "50209965",
   "metadata": {},
   "outputs": [],
   "source": [
    "# Koordinaten in column Geopoints bei den Leerstellen splitten (dabei geht das Null verloren, das beinflusst aber die Koordinaten nicht bemerkenswert)\n",
    "coordinates = []\n",
    "\n",
    "for i in range(len(df_new)):\n",
    "    elem = df_new['Coordinates'].str.split(' ')[i]\n",
    "    coordinates.append(elem)"
   ]
  },
  {
   "cell_type": "code",
   "execution_count": null,
   "id": "5a6428ea",
   "metadata": {},
   "outputs": [],
   "source": [
    "coordinates"
   ]
  },
  {
   "cell_type": "code",
   "execution_count": null,
   "id": "8afa48cf",
   "metadata": {},
   "outputs": [],
   "source": [
    "coordinates[10][1]"
   ]
  },
  {
   "cell_type": "code",
   "execution_count": null,
   "id": "7feeb4f2",
   "metadata": {},
   "outputs": [],
   "source": [
    "# aus der Liste die Koordinaten auslesen \n",
    "\n",
    "long = []\n",
    "lat = []\n",
    "\n",
    "for i in range(len(coordinates)):\n",
    "    elem_lo = coordinates[i][1]\n",
    "    long.append(elem_lo)\n",
    "    \n",
    "    elem_lat = coordinates[i][2]\n",
    "    lat.append(elem_lat)\n",
    "    "
   ]
  },
  {
   "cell_type": "code",
   "execution_count": null,
   "id": "d992ee5d",
   "metadata": {},
   "outputs": [],
   "source": [
    "lat"
   ]
  },
  {
   "cell_type": "code",
   "execution_count": null,
   "id": "591af361",
   "metadata": {},
   "outputs": [],
   "source": [
    "d = {'longitude':long, 'latitude':lat}"
   ]
  },
  {
   "cell_type": "code",
   "execution_count": null,
   "id": "18244ca1",
   "metadata": {},
   "outputs": [],
   "source": [
    "df_coordinates = pd.DataFrame(d)"
   ]
  },
  {
   "cell_type": "code",
   "execution_count": null,
   "id": "127fd9bf",
   "metadata": {},
   "outputs": [],
   "source": [
    "df_coordinates"
   ]
  },
  {
   "cell_type": "code",
   "execution_count": null,
   "id": "5b7b79ca",
   "metadata": {},
   "outputs": [],
   "source": [
    "df_final = pd.merge(df_new,df_coordinates, left_index=True, right_index=True)"
   ]
  },
  {
   "cell_type": "code",
   "execution_count": null,
   "id": "52eb8c3c",
   "metadata": {},
   "outputs": [],
   "source": [
    "df_final"
   ]
  },
  {
   "cell_type": "code",
   "execution_count": null,
   "id": "c443e937",
   "metadata": {},
   "outputs": [],
   "source": [
    "df_final[df_final['Emissionswert__Lre__Tag__dB_A__'] == 83]"
   ]
  },
  {
   "cell_type": "markdown",
   "id": "0812e318",
   "metadata": {},
   "source": [
    "## 5. Df vor dem Export etwas bereinigen"
   ]
  },
  {
   "cell_type": "code",
   "execution_count": null,
   "id": "f02a455c",
   "metadata": {},
   "outputs": [],
   "source": [
    "df_final.rename({'Emissionswert__Lre__Tag__dB_A__' : 'Emissionswert Tag',\n",
    "                 'Emissionswert__Lre__Nacht__dB_A__':'Emissionswert Nacht',\n",
    "                 'Durchschnittlicher_Tagesverkehr__DTV___Fz_d_' : 'Tagesverkehr Jahresmittel',\n",
    "'Anzahl_Fahrzeuge_Tag__Nt___Fz_h_': 'Anzahl Fz Tag pro h',\n",
    "'Anteil_lauter_Fahrzeuge_Tag__Nt2_____':'Prozentanteil lauter Fz Tag',\n",
    "'Anzahl lauter Fahrzeuge Tag (Fz/h)':'Anzahl lauter Fz Tag pro h',\n",
    "'Anzahl_Fahrzeuge_Nacht__Nn___Fz_h_':'Anzahl Fz Nacht pro h',\n",
    "'Anteil_lauter_Fahrzeuge_Nacht__Nn2_____':'Prozentanteil lauter Fz Nacht',\n",
    "'Anzahl lauter Fahrzeuge Nacht (Fz/h)':'Anzahl lauter Fz Nacht pro h',\n",
    "                'Steigung____' : 'Steigung',\n",
    "                 'Belagskorrektur__dB_A__' : 'Belagskorrektur',\n",
    "'Signalisierte_Geschwindigkeit_Tag__km_h_':'Tempo'},\n",
    "                \n",
    "                \n",
    "                inplace=True, axis = 1)"
   ]
  },
  {
   "cell_type": "markdown",
   "id": "bf95033c",
   "metadata": {},
   "source": [
    "### Alle rows mit Wert 0 in beiden Angaben zur Emission entfernen "
   ]
  },
  {
   "cell_type": "code",
   "execution_count": null,
   "id": "24b0d4c4",
   "metadata": {},
   "outputs": [],
   "source": [
    "#In den beiden Spalten 0 durch NaN ersetzen\n",
    "cols = [\"Emissionswert Tag\",\"Emissionswert Nacht\"]\n",
    "df_final[cols] = df_final[cols].replace({'0':np.nan, 0:np.nan})\n",
    "\n",
    "#rows mit NaN in diesen beiden Spalten entfernen\n",
    "df_final.dropna(subset=[\"Emissionswert Tag\",\"Emissionswert Nacht\"], inplace = True)"
   ]
  },
  {
   "cell_type": "code",
   "execution_count": null,
   "id": "a0885c42",
   "metadata": {},
   "outputs": [],
   "source": [
    "df_final.to_csv(r'daten/larmemission-streetFULL.csv', index = False)\n"
   ]
  }
 ],
 "metadata": {
  "kernelspec": {
   "display_name": "Python 3 (ipykernel)",
   "language": "python",
   "name": "python3"
  },
  "language_info": {
   "codemirror_mode": {
    "name": "ipython",
    "version": 3
   },
   "file_extension": ".py",
   "mimetype": "text/x-python",
   "name": "python",
   "nbconvert_exporter": "python",
   "pygments_lexer": "ipython3",
   "version": "3.9.7"
  }
 },
 "nbformat": 4,
 "nbformat_minor": 5
}
