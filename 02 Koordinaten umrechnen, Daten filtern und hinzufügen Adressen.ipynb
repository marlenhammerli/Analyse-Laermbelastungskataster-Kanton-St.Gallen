{
 "cells": [
  {
   "cell_type": "code",
   "execution_count": null,
   "id": "4ed0bac8",
   "metadata": {},
   "outputs": [],
   "source": [
    "import pandas as pd\n",
    "from pyproj import Transformer #Für Umrechnen der Koordinaten\n",
    "\n",
    "import regex as re\n",
    "\n",
    "#!pip install geopy #für das Abfragen ...\n",
    "import geopy\n",
    "from geopy.geocoders import GoogleV3 #der Google-API (Addressabfrage)\n",
    "\n",
    "from geopy.extra.rate_limiter import RateLimiter #Verzögern der Abfrage"
   ]
  },
  {
   "cell_type": "markdown",
   "id": "159bb60c",
   "metadata": {},
   "source": [
    "## 1. Koordinaten umrechnen\n",
    "Von EPSG2056 (LV95) zu EPSG4326 (WSG84)\n",
    "\n",
    "https://pyproj4.github.io/pyproj/stable/gotchas.html#upgrading-to-pyproj-2-from-pyproj-1"
   ]
  },
  {
   "cell_type": "code",
   "execution_count": null,
   "id": "8d460292",
   "metadata": {},
   "outputs": [],
   "source": [
    "transformer = Transformer.from_crs(\"epsg:2056\", \"epsg:4326\")\n",
    "\n",
    "transformer.transform(2743846.709100001, 1259012.603399999)\n",
    "\n",
    "#Test, Überprüfen mit Tool von swisstopo (https://www.swisstopo.admin.ch/en/maps-data-online/calculation-services/navref.html)\n",
    "#Ergebnis: kleine Abweichung, aber auf der Karte dasselbe Erlebnis\n"
   ]
  },
  {
   "cell_type": "code",
   "execution_count": null,
   "id": "22472f11",
   "metadata": {},
   "outputs": [],
   "source": [
    "df = pd.read_csv('daten/larmemission-streetFULL.csv')"
   ]
  },
  {
   "cell_type": "code",
   "execution_count": null,
   "id": "912377a0",
   "metadata": {},
   "outputs": [],
   "source": [
    "df.tail(2)"
   ]
  },
  {
   "cell_type": "code",
   "execution_count": null,
   "id": "a381735a",
   "metadata": {},
   "outputs": [],
   "source": [
    "df.shape"
   ]
  },
  {
   "cell_type": "code",
   "execution_count": null,
   "id": "5d839b98",
   "metadata": {},
   "outputs": [],
   "source": [
    "transformer.transform(df['Coordinates'][6])"
   ]
  },
  {
   "cell_type": "code",
   "execution_count": null,
   "id": "aab44e8a",
   "metadata": {},
   "outputs": [],
   "source": [
    "gps = []\n",
    "\n",
    "for i in range(len(df)): #liest Spalten latitude und longitude aus,\n",
    "    #transformiert diese in EPSG4326\n",
    "    r = transformer.transform(df['latitude'][i], df['longitude'][i])\n",
    "    \n",
    "    gps.append(r) #packt die Ergebnisse in die List gps"
   ]
  },
  {
   "cell_type": "code",
   "execution_count": null,
   "id": "5291f466",
   "metadata": {},
   "outputs": [],
   "source": [
    "gps[10][0]"
   ]
  },
  {
   "cell_type": "code",
   "execution_count": null,
   "id": "cd4a28fe",
   "metadata": {},
   "outputs": [],
   "source": [
    "#fügt dem df die Spalte GPS mit dem Inhalt der List GPS an\n",
    "df['gps'] = gps"
   ]
  },
  {
   "cell_type": "code",
   "execution_count": null,
   "id": "f629e811",
   "metadata": {},
   "outputs": [],
   "source": [
    "df.head(3)"
   ]
  },
  {
   "cell_type": "code",
   "execution_count": null,
   "id": "6b68c540",
   "metadata": {},
   "outputs": [],
   "source": [
    "# Zwischenergebnis in einem csv abspeichern\n",
    "df.to_csv(r'daten/V3_larmemissionen-strasse-mit gps.csv', index = False)"
   ]
  },
  {
   "cell_type": "markdown",
   "id": "550d9917",
   "metadata": {},
   "source": [
    "## 2. Koordinaten filtern\n",
    "\n",
    "Alles südlich der Stadt St.Gallen kann weg, also alle Daten, deren Latitude tiefer ist als 47.395407 (bzw. tiefer als 1249895.35).\n",
    "\n",
    "Dadurch behalte ich die Daten zu den weiteren Städten (Gossau, Wil, Rorschach) weiterhin. Diese könnten für weitere Auswertungen (weitere Geschichten) interessant sein.\n",
    "\n",
    "--> nur behalten, was >= 1249895"
   ]
  },
  {
   "cell_type": "code",
   "execution_count": null,
   "id": "95802e70",
   "metadata": {},
   "outputs": [],
   "source": [
    "df_sg = df[df['longitude']>= 1249895]"
   ]
  },
  {
   "cell_type": "code",
   "execution_count": null,
   "id": "b35876d1",
   "metadata": {},
   "outputs": [],
   "source": [
    "df_sg.head(2)"
   ]
  },
  {
   "cell_type": "code",
   "execution_count": null,
   "id": "cea46fc5",
   "metadata": {},
   "outputs": [],
   "source": [
    "#Durch den Filter fallen rund 10'000 rows weg\n",
    "df_sg.shape"
   ]
  },
  {
   "cell_type": "code",
   "execution_count": null,
   "id": "b88fa8ac",
   "metadata": {},
   "outputs": [],
   "source": [
    "# Zwischenergebnis abspeichern\n",
    "df_sg.to_csv('daten/V3_df-sg.csv', index = False)"
   ]
  },
  {
   "cell_type": "markdown",
   "id": "c13cb2b3",
   "metadata": {},
   "source": [
    "## 3. Aus den Koordinaten via Google-API Adressen ziehen"
   ]
  },
  {
   "cell_type": "code",
   "execution_count": null,
   "id": "74e1f30f",
   "metadata": {},
   "outputs": [],
   "source": [
    "df_sg.dtypes"
   ]
  },
  {
   "cell_type": "code",
   "execution_count": null,
   "id": "fa02396a",
   "metadata": {
    "scrolled": true
   },
   "outputs": [],
   "source": [
    "df_sg.head(3)"
   ]
  },
  {
   "cell_type": "code",
   "execution_count": null,
   "id": "8b5f3db8",
   "metadata": {},
   "outputs": [],
   "source": [
    "df_sg.tail(5)"
   ]
  },
  {
   "cell_type": "code",
   "execution_count": null,
   "id": "2d6e8c22",
   "metadata": {},
   "outputs": [],
   "source": [
    "df_sg.shape"
   ]
  },
  {
   "cell_type": "code",
   "execution_count": null,
   "id": "1342f607",
   "metadata": {},
   "outputs": [],
   "source": [
    "# Google-API geocoding als gelocater setzen (API-Key mitgeben)\n",
    "geolocator = GoogleV3(api_key = 'XXXX')"
   ]
  },
  {
   "cell_type": "code",
   "execution_count": null,
   "id": "cab1d7c0",
   "metadata": {},
   "outputs": [],
   "source": [
    "#RateLlimiter auf zwei Sekunden setzen\n",
    "reverse = RateLimiter(geolocator.reverse, min_delay_seconds=1)\n",
    "\n",
    "\n",
    "addresses = []\n",
    "\n",
    "for i in range(len(df_sg)):\n",
    "    #speichert aufgrund der Koordinaten das Adress-File\n",
    "    location = geolocator.reverse(df_sg['gps'].iloc[i])\n",
    "    \n",
    "    #holt aus dem Adressen-File die raw-Daten\n",
    "    value = location.address\n",
    "    \n",
    "    #packt die raw-Daten in eine Liste\n",
    "    addresses.append(value)"
   ]
  },
  {
   "cell_type": "code",
   "execution_count": null,
   "id": "77fb508e",
   "metadata": {},
   "outputs": [],
   "source": [
    "addresses"
   ]
  },
  {
   "cell_type": "code",
   "execution_count": null,
   "id": "004b3369",
   "metadata": {},
   "outputs": [],
   "source": [
    "#mit Regex den Leerschlag zwischen St. und Strassennamen oder Gemeindenamen entfernen\n",
    "address_new = [re.sub(r'St. ', 'St.', i) for i in addresses]"
   ]
  },
  {
   "cell_type": "code",
   "execution_count": null,
   "id": "97a61787",
   "metadata": {},
   "outputs": [],
   "source": [
    "df_sg = df_sg.copy()"
   ]
  },
  {
   "cell_type": "code",
   "execution_count": null,
   "id": "c68aedff",
   "metadata": {},
   "outputs": [],
   "source": [
    "#Addressen dem df2 hinzufügen\n",
    "df_sg['addresses'] = address_new"
   ]
  },
  {
   "cell_type": "code",
   "execution_count": null,
   "id": "5ec3400e",
   "metadata": {},
   "outputs": [],
   "source": [
    "df_sg.head(12)"
   ]
  },
  {
   "cell_type": "code",
   "execution_count": null,
   "id": "61e98e66",
   "metadata": {},
   "outputs": [],
   "source": [
    "df_sg.to_csv('daten/sg_with addresses_uncleaned.csv', index = False)"
   ]
  },
  {
   "cell_type": "markdown",
   "id": "8aff0194",
   "metadata": {},
   "source": [
    "### Adressen aufsplitten in Strasse, Gemeinde, PLZ "
   ]
  },
  {
   "cell_type": "code",
   "execution_count": null,
   "id": "1a3322f7",
   "metadata": {},
   "outputs": [],
   "source": [
    "# Adressen beim Komma splitten, um Strassen und Gemeindenamen seperat zu erhalten\n",
    "address_list = []\n",
    "\n",
    "for i in range(len(df_sg)):\n",
    "    \n",
    "    elem = df_sg['addresses'].iloc[i].split(',')\n",
    "    \n",
    "    address_list.append(elem)"
   ]
  },
  {
   "cell_type": "code",
   "execution_count": null,
   "id": "c3628a04",
   "metadata": {},
   "outputs": [],
   "source": [
    "#mit for-loop Strassen und Gemeinden aus der Liste auslesen und in seperate Listen packen\n",
    "strasse = []\n",
    "gemeinde = []\n",
    "\n",
    "for i in range(len(address_list)):\n",
    "    elem_str = address_list[i][0]\n",
    "    strasse.append(elem_str)\n",
    "    \n",
    "    elem_gem = address_list[i][1]\n",
    "    gemeinde.append(elem_gem)"
   ]
  },
  {
   "cell_type": "code",
   "execution_count": null,
   "id": "9602e3f8",
   "metadata": {},
   "outputs": [],
   "source": [
    "#Strasse und Gemeinde dem df hinzufügen\n",
    "df_sg['strasse'] = strasse\n",
    "df_sg['gemeinde'] = gemeinde"
   ]
  },
  {
   "cell_type": "code",
   "execution_count": null,
   "id": "f1d4c50c",
   "metadata": {},
   "outputs": [],
   "source": [
    "df_sg.to_csv('daten/df_sg_with addresses_2.csv', index = False)"
   ]
  },
  {
   "cell_type": "markdown",
   "id": "d2809cc8",
   "metadata": {},
   "source": [
    "#### Spalte mit Adresse bzw. Listen bereinigen"
   ]
  },
  {
   "cell_type": "code",
   "execution_count": null,
   "id": "02ac126d",
   "metadata": {},
   "outputs": [],
   "source": [
    "strasse"
   ]
  },
  {
   "cell_type": "code",
   "execution_count": null,
   "id": "c7f7a4b4",
   "metadata": {},
   "outputs": [],
   "source": [
    "gemeinde"
   ]
  },
  {
   "cell_type": "code",
   "execution_count": null,
   "id": "5d7fd92b",
   "metadata": {},
   "outputs": [],
   "source": [
    "gemeinde\n",
    "#-> mit Regex alle rausfiltern, die am Anfang nicht das Formt 4 Zahlen haben\n",
    "# '\\s\\D*\\s\\w*' = Hochkomma, Whitespace, Nondigit, whitespace, wordcharacters, hochkomme\n"
   ]
  },
  {
   "cell_type": "code",
   "execution_count": null,
   "id": "dca70de4",
   "metadata": {},
   "outputs": [],
   "source": [
    "#Fehler mit re.findall rausfiltern in eigene Liste\n",
    "gemeinde_errors = [re.findall(r\"\"\"'\\s\\D*\\s\\w*'\"\"\", i) for i in gemeinde]"
   ]
  },
  {
   "cell_type": "code",
   "execution_count": null,
   "id": "c4608e20",
   "metadata": {},
   "outputs": [],
   "source": [
    "[re.findall(r\"\"\"'\\s\\D*\\s\\w*'\"\"\", i) for i in gemeinde]"
   ]
  },
  {
   "cell_type": "code",
   "execution_count": null,
   "id": "b9076e08",
   "metadata": {
    "scrolled": true
   },
   "outputs": [],
   "source": [
    "gemeinde_errors"
   ]
  },
  {
   "cell_type": "code",
   "execution_count": null,
   "id": "d9d29942",
   "metadata": {},
   "outputs": [],
   "source": [
    "#mit Regex Fehler in Liste gemeinde entfernen und in neue Liste\n",
    "gemeinde_new = [re.sub(r'\\W\\sAbtwil\\s\\W', '9030 Abtwil', i) for i in gemeinde]"
   ]
  },
  {
   "cell_type": "code",
   "execution_count": null,
   "id": "b0e53853",
   "metadata": {},
   "outputs": [],
   "source": [
    "test = [re.findall('\\W\\sAbtwil\\s\\W', i) for i in gemeinde]"
   ]
  },
  {
   "cell_type": "code",
   "execution_count": null,
   "id": "86e89ca7",
   "metadata": {},
   "outputs": [],
   "source": [
    "test\n",
    "#funktioniert nicht, Fehler sind zudem sehr unterschiedlich, also auch nicht gleich strukturiert\n",
    "#-> folglich daten putzen im Excel mit Hilfe der dortigen Filtermöglichkeiten"
   ]
  },
  {
   "cell_type": "code",
   "execution_count": null,
   "id": "b11daee1",
   "metadata": {},
   "outputs": [],
   "source": [
    "' Abtwil ' in gemeinde"
   ]
  },
  {
   "cell_type": "code",
   "execution_count": null,
   "id": "8bd0a5dc",
   "metadata": {},
   "outputs": [],
   "source": [
    "gemeinde_new"
   ]
  },
  {
   "cell_type": "code",
   "execution_count": null,
   "id": "de3875b1",
   "metadata": {},
   "outputs": [],
   "source": [
    "#überprüfen, ob der Fehler entfernt worden ist\n",
    "gemeinde_errorsTest = [re.findall(\"\\s\\D*\\s\", i) for i in gemeinde_new]\n",
    "gemeinde_errorsTest"
   ]
  }
 ],
 "metadata": {
  "kernelspec": {
   "display_name": "Python 3 (ipykernel)",
   "language": "python",
   "name": "python3"
  },
  "language_info": {
   "codemirror_mode": {
    "name": "ipython",
    "version": 3
   },
   "file_extension": ".py",
   "mimetype": "text/x-python",
   "name": "python",
   "nbconvert_exporter": "python",
   "pygments_lexer": "ipython3",
   "version": "3.9.7"
  }
 },
 "nbformat": 4,
 "nbformat_minor": 5
}
